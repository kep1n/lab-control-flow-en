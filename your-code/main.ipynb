{
 "cells": [
  {
   "cell_type": "markdown",
   "metadata": {},
   "source": [
    "NOTE: I used list comprehensions in most of the cases even if we haven't seen them yet. Hope it's not a problem."
   ]
  },
  {
   "cell_type": "markdown",
   "metadata": {},
   "source": [
    "## Words"
   ]
  },
  {
   "cell_type": "code",
   "execution_count": 2,
   "metadata": {},
   "outputs": [],
   "source": [
    "words = ['play', 'filling', 'bar', 'theatre', 'easygoing', 'date', 'lead', 'that', 'story',  'island']"
   ]
  },
  {
   "cell_type": "markdown",
   "metadata": {},
   "source": [
    "**Print every word in upper case**"
   ]
  },
  {
   "cell_type": "code",
   "execution_count": 3,
   "metadata": {},
   "outputs": [
    {
     "name": "stdout",
     "output_type": "stream",
     "text": [
      "PLAY\n",
      "FILLING\n",
      "BAR\n",
      "THEATRE\n",
      "EASYGOING\n",
      "DATE\n",
      "LEAD\n",
      "THAT\n",
      "STORY\n",
      "ISLAND\n"
     ]
    }
   ],
   "source": [
    "for word in words:\n",
    "    print(word.upper())"
   ]
  },
  {
   "cell_type": "markdown",
   "metadata": {},
   "source": [
    "**Create a new list containing only words with 5 or more letters**"
   ]
  },
  {
   "cell_type": "code",
   "execution_count": 4,
   "metadata": {},
   "outputs": [
    {
     "data": {
      "text/plain": [
       "['filling', 'theatre', 'easygoing', 'story', 'island']"
      ]
     },
     "execution_count": 4,
     "metadata": {},
     "output_type": "execute_result"
    }
   ],
   "source": [
    "words5_and_above = [word for word in words if len(word) >= 5]\n",
    "words5_and_above"
   ]
  },
  {
   "cell_type": "markdown",
   "metadata": {},
   "source": [
    "**Print the first word starting with \"t\"**"
   ]
  },
  {
   "cell_type": "code",
   "execution_count": 5,
   "metadata": {},
   "outputs": [
    {
     "name": "stdout",
     "output_type": "stream",
     "text": [
      "theatre\n"
     ]
    }
   ],
   "source": [
    "for word in words:\n",
    "    if word[0] == 't':\n",
    "        print(word)\n",
    "        break"
   ]
  },
  {
   "cell_type": "markdown",
   "metadata": {},
   "source": [
    "## Numbers"
   ]
  },
  {
   "cell_type": "markdown",
   "metadata": {},
   "source": [
    "**Create a list containing the square of every number from 1 to 10**"
   ]
  },
  {
   "cell_type": "code",
   "execution_count": 6,
   "metadata": {},
   "outputs": [
    {
     "data": {
      "text/plain": [
       "[1, 4, 9, 16, 25, 36, 49, 64, 81, 100]"
      ]
     },
     "execution_count": 6,
     "metadata": {},
     "output_type": "execute_result"
    }
   ],
   "source": [
    "squares = [i**2 for i in range(1, 11)]\n",
    "squares"
   ]
  },
  {
   "cell_type": "markdown",
   "metadata": {},
   "source": [
    "**Print a list containing the square of every odd number from 1 to 10**"
   ]
  },
  {
   "cell_type": "code",
   "execution_count": 7,
   "metadata": {},
   "outputs": [
    {
     "data": {
      "text/plain": [
       "[1, 9, 25, 49, 81]"
      ]
     },
     "execution_count": 7,
     "metadata": {},
     "output_type": "execute_result"
    }
   ],
   "source": [
    "squares_odd = [i**2 for i in range(1, 11) if i%2 != 0]\n",
    "squares_odd"
   ]
  },
  {
   "cell_type": "markdown",
   "metadata": {},
   "source": [
    "**Create a list with the squares of all multiples of 8 below 1000**"
   ]
  },
  {
   "cell_type": "code",
   "execution_count": null,
   "metadata": {},
   "outputs": [],
   "source": [
    "squares_below_thousand = [i**2 for i in range(1000) if i%8 == 0]"
   ]
  },
  {
   "cell_type": "markdown",
   "metadata": {},
   "source": [
    "## People"
   ]
  },
  {
   "cell_type": "code",
   "execution_count": 9,
   "metadata": {},
   "outputs": [],
   "source": [
    "people = [\n",
    "    {\n",
    "        \"name\": \"Juan\",\n",
    "        \"age\": 34,\n",
    "        \"n_kids\": 2\n",
    "    },\n",
    "    {\n",
    "        \"name\": \"Pepe\",\n",
    "        \"age\": 27,\n",
    "        \"n_kids\": 0\n",
    "    },\n",
    "    {\n",
    "        \"name\": \"Sonia\",\n",
    "        \"age\": 41,\n",
    "        \"n_kids\": 1\n",
    "    },\n",
    "    {\n",
    "        \"name\": \"Lucía\",\n",
    "        \"age\": 22,\n",
    "        \"n_kids\": 2\n",
    "    },\n",
    "    {\n",
    "        \"name\": \"Leo\",\n",
    "        \"age\": 55,\n",
    "        \"n_kids\": 5\n",
    "    }\n",
    "]"
   ]
  },
  {
   "cell_type": "markdown",
   "metadata": {},
   "source": [
    "**How many people are there?**"
   ]
  },
  {
   "cell_type": "code",
   "execution_count": 11,
   "metadata": {},
   "outputs": [
    {
     "name": "stdout",
     "output_type": "stream",
     "text": [
      "There are 5 of them\n"
     ]
    }
   ],
   "source": [
    "print(f'There are {len(people)} of them')"
   ]
  },
  {
   "cell_type": "markdown",
   "metadata": {},
   "source": [
    "**How many people have kids**?"
   ]
  },
  {
   "cell_type": "code",
   "execution_count": 12,
   "metadata": {},
   "outputs": [
    {
     "name": "stdout",
     "output_type": "stream",
     "text": [
      "4 people have kids\n"
     ]
    }
   ],
   "source": [
    "number_kids = len([person for person in people if person['n_kids'] > 0])\n",
    "print(f'{number_kids} people have kids')"
   ]
  },
  {
   "cell_type": "markdown",
   "metadata": {},
   "source": [
    "**How many kids do they have in total?**"
   ]
  },
  {
   "cell_type": "code",
   "execution_count": 15,
   "metadata": {},
   "outputs": [
    {
     "data": {
      "text/plain": [
       "10"
      ]
     },
     "execution_count": 15,
     "metadata": {},
     "output_type": "execute_result"
    }
   ],
   "source": [
    "sum([person['n_kids'] for person in people])"
   ]
  },
  {
   "cell_type": "markdown",
   "metadata": {},
   "source": [
    "**In a year's time, names ending with \"a\" will have an extra kid. Create a list of dictionaries with people's info in a year's time**"
   ]
  },
  {
   "cell_type": "code",
   "execution_count": 14,
   "metadata": {},
   "outputs": [
    {
     "name": "stdout",
     "output_type": "stream",
     "text": [
      "Congrats Sonia! ;-)!\n",
      "Congrats Lucía! ;-)!\n"
     ]
    },
    {
     "data": {
      "text/plain": [
       "[{'name': 'Juan', 'age': 34, 'n_kids': 2},\n",
       " {'name': 'Pepe', 'age': 27, 'n_kids': 0},\n",
       " {'name': 'Sonia', 'age': 41, 'n_kids': 2},\n",
       " {'name': 'Lucía', 'age': 22, 'n_kids': 3},\n",
       " {'name': 'Leo', 'age': 55, 'n_kids': 5}]"
      ]
     },
     "execution_count": 14,
     "metadata": {},
     "output_type": "execute_result"
    }
   ],
   "source": [
    "people_after_year = []\n",
    "for person in people:\n",
    "    # create new object to avoid changes in original list of persons\n",
    "    temp_data = dict(person)\n",
    "    if person['name'][-1].lower() == 'a':\n",
    "        temp_data['n_kids'] += 1\n",
    "        print(f'Congrats {person['name']}! ;-)!')\n",
    "    people_after_year.append(temp_data)\n",
    "people_after_year"
   ]
  }
 ],
 "metadata": {
  "kernelspec": {
   "display_name": "ironhack",
   "language": "python",
   "name": "python3"
  },
  "language_info": {
   "codemirror_mode": {
    "name": "ipython",
    "version": 3
   },
   "file_extension": ".py",
   "mimetype": "text/x-python",
   "name": "python",
   "nbconvert_exporter": "python",
   "pygments_lexer": "ipython3",
   "version": "3.13.0"
  },
  "toc": {
   "base_numbering": 1,
   "nav_menu": {},
   "number_sections": false,
   "sideBar": true,
   "skip_h1_title": false,
   "title_cell": "Table of Contents",
   "title_sidebar": "Contents",
   "toc_cell": false,
   "toc_position": {},
   "toc_section_display": true,
   "toc_window_display": true
  },
  "varInspector": {
   "cols": {
    "lenName": 16,
    "lenType": 16,
    "lenVar": 40
   },
   "kernels_config": {
    "python": {
     "delete_cmd_postfix": "",
     "delete_cmd_prefix": "del ",
     "library": "var_list.py",
     "varRefreshCmd": "print(var_dic_list())"
    },
    "r": {
     "delete_cmd_postfix": ") ",
     "delete_cmd_prefix": "rm(",
     "library": "var_list.r",
     "varRefreshCmd": "cat(var_dic_list()) "
    }
   },
   "types_to_exclude": [
    "module",
    "function",
    "builtin_function_or_method",
    "instance",
    "_Feature"
   ],
   "window_display": false
  }
 },
 "nbformat": 4,
 "nbformat_minor": 4
}
